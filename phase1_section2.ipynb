{
  "nbformat": 4,
  "nbformat_minor": 0,
  "metadata": {
    "colab": {
      "name": "phase1_section2.ipynb",
      "provenance": []
    },
    "kernelspec": {
      "display_name": "Python 3",
      "name": "python3"
    },
    "language_info": {
      "name": "python"
    }
  },
  "cells": [
    {
      "cell_type": "code",
      "metadata": {
        "colab": {
          "base_uri": "https://localhost:8080/"
        },
        "id": "w_85IQ_A_x3W",
        "outputId": "ee6dfef6-e1eb-4c28-8f6e-06c7a703033a"
      },
      "source": [
        "#%%time\n",
        "#challange1\n",
        "def sumfunction(a):\n",
        "  if a == 0:\n",
        "    return 0\n",
        "  else:\n",
        "    return (a + sumfunction(a-1))\n",
        "  \n",
        "%time print(sumfunction(100))\n",
        "  "
      ],
      "execution_count": 24,
      "outputs": [
        {
          "output_type": "stream",
          "text": [
            "5050\n",
            "CPU times: user 488 µs, sys: 0 ns, total: 488 µs\n",
            "Wall time: 398 µs\n"
          ],
          "name": "stdout"
        }
      ]
    },
    {
      "cell_type": "code",
      "metadata": {
        "colab": {
          "base_uri": "https://localhost:8080/"
        },
        "id": "6jP_WG6CWdaU",
        "outputId": "79295b1f-b23d-46d1-e522-6e66231b8718"
      },
      "source": [
        "#%%time\n",
        "#challange1\n",
        "func = lambda x: sum([a for a in range(x)])\n",
        "%time print(func(101))"
      ],
      "execution_count": 25,
      "outputs": [
        {
          "output_type": "stream",
          "text": [
            "5050\n",
            "CPU times: user 117 µs, sys: 16 µs, total: 133 µs\n",
            "Wall time: 107 µs\n"
          ],
          "name": "stdout"
        }
      ]
    },
    {
      "cell_type": "code",
      "metadata": {
        "colab": {
          "base_uri": "https://localhost:8080/"
        },
        "id": "9U7w9dK2AWyD",
        "outputId": "89e7224c-fd6d-4d90-c4f8-4bb9f8042736"
      },
      "source": [
        "%%time\n",
        "#challange2\n",
        "def fun(b,c):\n",
        "  lis = [ int(i) for i in range(b,c)]\n",
        "  return sum(lis)\n",
        "  \n",
        "fun(2,8)"
      ],
      "execution_count": 21,
      "outputs": [
        {
          "output_type": "stream",
          "text": [
            "CPU times: user 14 µs, sys: 0 ns, total: 14 µs\n",
            "Wall time: 18.6 µs\n"
          ],
          "name": "stdout"
        }
      ]
    },
    {
      "cell_type": "code",
      "metadata": {
        "colab": {
          "base_uri": "https://localhost:8080/"
        },
        "id": "yEBAm4NHBbGD",
        "outputId": "5008d525-ade1-4a50-cfcb-6391c959b264"
      },
      "source": [
        "%%time\n",
        "#challange3\n",
        "def fnwithtesting(int1, int2):\n",
        "  try:\n",
        "    return fun(int1,int2)\n",
        "  except Exception as err:\n",
        "    print('error')\n",
        "  else:\n",
        "    print(':)')\n",
        " \n",
        "fnwithtesting('a',101)\n"
      ],
      "execution_count": 22,
      "outputs": [
        {
          "output_type": "stream",
          "text": [
            "error\n",
            "CPU times: user 644 µs, sys: 968 µs, total: 1.61 ms\n",
            "Wall time: 1.47 ms\n"
          ],
          "name": "stdout"
        }
      ]
    },
    {
      "cell_type": "code",
      "metadata": {
        "id": "R-_aS3fyKkcg"
      },
      "source": [
        ""
      ],
      "execution_count": null,
      "outputs": []
    },
    {
      "cell_type": "code",
      "metadata": {
        "id": "RfrLaIe-FCK5"
      },
      "source": [
        "#challange4\n",
        "#challange4 is done in bot.py fine "
      ],
      "execution_count": 4,
      "outputs": []
    },
    {
      "cell_type": "code",
      "metadata": {
        "id": "sohrmURHHgOn"
      },
      "source": [
        ""
      ],
      "execution_count": null,
      "outputs": []
    }
  ]
}