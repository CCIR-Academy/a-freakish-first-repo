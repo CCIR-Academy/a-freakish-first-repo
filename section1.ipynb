{
  "nbformat": 4,
  "nbformat_minor": 0,
  "metadata": {
    "colab": {
      "name": "Untitled0.ipynb",
      "provenance": []
    },
    "kernelspec": {
      "name": "python3",
      "display_name": "Python 3"
    },
    "language_info": {
      "name": "python"
    }
  },
  "cells": [
    {
      "cell_type": "code",
      "metadata": {
        "colab": {
          "base_uri": "https://localhost:8080/"
        },
        "id": "Qr7poYsN7jrF",
        "outputId": "9dc47968-659f-4a12-89e1-09c2a45fffdd"
      },
      "source": [
        "\n",
        "# Challenge 1: Obtain a new variable named \"targetA\" which equals 9 (as an integer) by using data in the provided list and basic arithmatic operaters. \n",
        "numList = [2,7,11,15]\n",
        "targetA = 0\n",
        "### Write your code below \n",
        "\n",
        "\n",
        "targetA = numList[2] - numList[0]\n",
        "\n",
        "\n",
        "\n",
        "\n",
        "### Write your code above\n",
        "print(\"My target equals %s, so I got it %s!\" % (targetA, (\"right\" if targetA == 9 else \"wrong\")))\n"
      ],
      "execution_count": 2,
      "outputs": [
        {
          "output_type": "stream",
          "text": [
            "My target equals 9, so I got it right!\n"
          ],
          "name": "stdout"
        }
      ]
    },
    {
      "cell_type": "code",
      "metadata": {
        "colab": {
          "base_uri": "https://localhost:8080/"
        },
        "id": "yjeuSCfY_gFu",
        "outputId": "9b6f9aa8-d377-485d-f1f8-72a1de6bccf3"
      },
      "source": [
        "# Challenge 2: Obtain a reversed list for numList\n",
        "numList = [2,7,11,15]\n",
        "targetList = []\n",
        "### Write your code below\n",
        "\n",
        "#targetList = [num for num in reversed(numList)]\n",
        "targetList = numList[::-1]\n",
        "\n",
        "\n",
        "\n",
        "\n",
        "### Write your code above\n",
        "print(\"My target List is %s\" % targetList)"
      ],
      "execution_count": 30,
      "outputs": [
        {
          "output_type": "stream",
          "text": [
            "My target List is [15, 11, 7, 2]\n"
          ],
          "name": "stdout"
        }
      ]
    },
    {
      "cell_type": "code",
      "metadata": {
        "colab": {
          "base_uri": "https://localhost:8080/"
        },
        "id": "CxGCUbGQ_0Gf",
        "outputId": "3a02c4b0-cc1d-4951-9c25-790acb0367a7"
      },
      "source": [
        "# Challenge 3: Get the sum of the elements in the list\n",
        "numList = [2,7,11,15]\n",
        "numListSum = 0\n",
        "### Write your code below\n",
        "numListSum = sum(numList) \n",
        "\n",
        "\n",
        "\n",
        "\n",
        "\n",
        "### Write your code above\n",
        "print(\"My sum equals %s, so I got it %s!\" % (numListSum, (\"right\" if numListSum == 35 else \"wrong\")))\n"
      ],
      "execution_count": 34,
      "outputs": [
        {
          "output_type": "stream",
          "text": [
            "My sum equals 35, so I got it right!\n"
          ],
          "name": "stdout"
        }
      ]
    },
    {
      "cell_type": "code",
      "metadata": {
        "colab": {
          "base_uri": "https://localhost:8080/"
        },
        "id": "CO6orANPItJq",
        "outputId": "af282e37-fd33-402b-919d-0f7c82df52fb"
      },
      "source": [
        "# Challenge 4: Sort the list from small to big!\n",
        "numList = [7,2,15,11]\n",
        "targetList = []\n",
        "### Write your code below\n",
        "\n",
        " \n",
        "targetList = sorted(numList)\n",
        "\n",
        "\n",
        "\n",
        "\n",
        "### Write your code above\n",
        "print(\"My target List is %s\" % targetList)"
      ],
      "execution_count": 36,
      "outputs": [
        {
          "output_type": "stream",
          "text": [
            "My target List is [2, 7, 11, 15]\n"
          ],
          "name": "stdout"
        }
      ]
    },
    {
      "cell_type": "code",
      "metadata": {
        "id": "TXTM6ZYeJAR8"
      },
      "source": [
        ""
      ],
      "execution_count": null,
      "outputs": []
    }
  ]
}